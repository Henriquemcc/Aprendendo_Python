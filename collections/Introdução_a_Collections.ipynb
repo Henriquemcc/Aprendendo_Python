{
  "nbformat": 4,
  "nbformat_minor": 0,
  "metadata": {
    "colab": {
      "name": "Introdução a Collections.ipynb",
      "provenance": [],
      "collapsed_sections": []
    },
    "kernelspec": {
      "name": "python3",
      "display_name": "Python 3"
    }
  },
  "cells": [
    {
      "cell_type": "code",
      "metadata": {
        "id": "COa06T607LiC",
        "colab_type": "code",
        "colab": {
          "base_uri": "https://localhost:8080/",
          "height": 86
        },
        "outputId": "440eed98-44f7-4a1d-c53d-6e2915daca61"
      },
      "source": [
        "idade1 = 39\n",
        "idade2 = 30\n",
        "idade3 = 27\n",
        "idade4 = 18\n",
        "\n",
        "print(idade1)\n",
        "print(idade2)\n",
        "print(idade3)\n",
        "print(idade4)"
      ],
      "execution_count": null,
      "outputs": [
        {
          "output_type": "stream",
          "text": [
            "39\n",
            "30\n",
            "27\n",
            "18\n"
          ],
          "name": "stdout"
        }
      ]
    },
    {
      "cell_type": "code",
      "metadata": {
        "id": "J0bnVuID8B4x",
        "colab_type": "code",
        "colab": {}
      },
      "source": [
        "idades = [39, 30, 27, 18]"
      ],
      "execution_count": null,
      "outputs": []
    },
    {
      "cell_type": "code",
      "metadata": {
        "id": "sLQZ-Mzn8LtB",
        "colab_type": "code",
        "colab": {
          "base_uri": "https://localhost:8080/",
          "height": 34
        },
        "outputId": "3c231e1f-77f6-449d-9b46-1d2e09bfebff"
      },
      "source": [
        "type(idades)"
      ],
      "execution_count": null,
      "outputs": [
        {
          "output_type": "execute_result",
          "data": {
            "text/plain": [
              "list"
            ]
          },
          "metadata": {
            "tags": []
          },
          "execution_count": 33
        }
      ]
    },
    {
      "cell_type": "code",
      "metadata": {
        "id": "3-leZRGF8NSR",
        "colab_type": "code",
        "colab": {
          "base_uri": "https://localhost:8080/",
          "height": 34
        },
        "outputId": "8b8222fd-de81-4692-aa91-dfd4fc793e5c"
      },
      "source": [
        "len(idades)"
      ],
      "execution_count": null,
      "outputs": [
        {
          "output_type": "execute_result",
          "data": {
            "text/plain": [
              "4"
            ]
          },
          "metadata": {
            "tags": []
          },
          "execution_count": 34
        }
      ]
    },
    {
      "cell_type": "code",
      "metadata": {
        "id": "F_hdj_T98gir",
        "colab_type": "code",
        "colab": {
          "base_uri": "https://localhost:8080/",
          "height": 34
        },
        "outputId": "40e833ee-5028-4add-9934-6b91a9e66ea8"
      },
      "source": [
        "idades[0]"
      ],
      "execution_count": null,
      "outputs": [
        {
          "output_type": "execute_result",
          "data": {
            "text/plain": [
              "39"
            ]
          },
          "metadata": {
            "tags": []
          },
          "execution_count": 35
        }
      ]
    },
    {
      "cell_type": "code",
      "metadata": {
        "id": "8v4HfW248jet",
        "colab_type": "code",
        "colab": {
          "base_uri": "https://localhost:8080/",
          "height": 34
        },
        "outputId": "828dfdfe-817e-46c5-a868-62e0f4da0e3c"
      },
      "source": [
        "idades"
      ],
      "execution_count": null,
      "outputs": [
        {
          "output_type": "execute_result",
          "data": {
            "text/plain": [
              "[39, 30, 27, 18]"
            ]
          },
          "metadata": {
            "tags": []
          },
          "execution_count": 36
        }
      ]
    },
    {
      "cell_type": "code",
      "metadata": {
        "id": "es5CdjOk8lc8",
        "colab_type": "code",
        "colab": {
          "base_uri": "https://localhost:8080/",
          "height": 69
        },
        "outputId": "e0615c94-da43-4762-a3d9-2e739fdefa2e"
      },
      "source": [
        "print(idades[1])\n",
        "print(idades[2])\n",
        "print(idades[3])"
      ],
      "execution_count": null,
      "outputs": [
        {
          "output_type": "stream",
          "text": [
            "30\n",
            "27\n",
            "18\n"
          ],
          "name": "stdout"
        }
      ]
    },
    {
      "cell_type": "code",
      "metadata": {
        "id": "DY20ZD5I8qRz",
        "colab_type": "code",
        "colab": {}
      },
      "source": [
        "idades.append(15)"
      ],
      "execution_count": null,
      "outputs": []
    },
    {
      "cell_type": "code",
      "metadata": {
        "id": "SJTum3qW823C",
        "colab_type": "code",
        "colab": {
          "base_uri": "https://localhost:8080/",
          "height": 34
        },
        "outputId": "d5fd94f3-1ab7-4c97-ad2e-9cc5f3d1d470"
      },
      "source": [
        "idades"
      ],
      "execution_count": null,
      "outputs": [
        {
          "output_type": "execute_result",
          "data": {
            "text/plain": [
              "[39, 30, 27, 18, 15]"
            ]
          },
          "metadata": {
            "tags": []
          },
          "execution_count": 39
        }
      ]
    },
    {
      "cell_type": "code",
      "metadata": {
        "id": "ORnPZhhK83xB",
        "colab_type": "code",
        "colab": {
          "base_uri": "https://localhost:8080/",
          "height": 34
        },
        "outputId": "1781861a-0e13-4b1e-8b5d-4866382a1288"
      },
      "source": [
        "idades[4]"
      ],
      "execution_count": null,
      "outputs": [
        {
          "output_type": "execute_result",
          "data": {
            "text/plain": [
              "15"
            ]
          },
          "metadata": {
            "tags": []
          },
          "execution_count": 40
        }
      ]
    },
    {
      "cell_type": "code",
      "metadata": {
        "id": "dGK8PzBQ86AD",
        "colab_type": "code",
        "colab": {
          "base_uri": "https://localhost:8080/",
          "height": 167
        },
        "outputId": "66cbc923-33d9-4024-e99c-3f6af3d5cf80"
      },
      "source": [
        "idades[5]"
      ],
      "execution_count": null,
      "outputs": [
        {
          "output_type": "error",
          "ename": "IndexError",
          "evalue": "ignored",
          "traceback": [
            "\u001b[0;31m---------------------------------------------------------------------------\u001b[0m",
            "\u001b[0;31mIndexError\u001b[0m                                Traceback (most recent call last)",
            "\u001b[0;32m<ipython-input-41-9afc071113c0>\u001b[0m in \u001b[0;36m<module>\u001b[0;34m()\u001b[0m\n\u001b[0;32m----> 1\u001b[0;31m \u001b[0midades\u001b[0m\u001b[0;34m[\u001b[0m\u001b[0;36m5\u001b[0m\u001b[0;34m]\u001b[0m\u001b[0;34m\u001b[0m\u001b[0;34m\u001b[0m\u001b[0m\n\u001b[0m",
            "\u001b[0;31mIndexError\u001b[0m: list index out of range"
          ]
        }
      ]
    },
    {
      "cell_type": "code",
      "metadata": {
        "id": "H0y4yTqC87cv",
        "colab_type": "code",
        "colab": {
          "base_uri": "https://localhost:8080/",
          "height": 104
        },
        "outputId": "34f9ce15-e927-450b-ef07-6ef38d905f17"
      },
      "source": [
        "for idade in idades:\n",
        "  print(idade)"
      ],
      "execution_count": null,
      "outputs": [
        {
          "output_type": "stream",
          "text": [
            "39\n",
            "30\n",
            "27\n",
            "18\n",
            "15\n"
          ],
          "name": "stdout"
        }
      ]
    },
    {
      "cell_type": "code",
      "metadata": {
        "id": "DfriHqwx9HUx",
        "colab_type": "code",
        "colab": {}
      },
      "source": [
        "idades.remove(30)"
      ],
      "execution_count": null,
      "outputs": []
    },
    {
      "cell_type": "code",
      "metadata": {
        "id": "ppCqgGNe9JmC",
        "colab_type": "code",
        "colab": {
          "base_uri": "https://localhost:8080/",
          "height": 34
        },
        "outputId": "412b98e9-a083-4534-c9bd-a22e10e2b06f"
      },
      "source": [
        "idades"
      ],
      "execution_count": null,
      "outputs": [
        {
          "output_type": "execute_result",
          "data": {
            "text/plain": [
              "[39, 27, 18, 15]"
            ]
          },
          "metadata": {
            "tags": []
          },
          "execution_count": 44
        }
      ]
    },
    {
      "cell_type": "code",
      "metadata": {
        "id": "2s5FFsoN9Mau",
        "colab_type": "code",
        "colab": {
          "base_uri": "https://localhost:8080/",
          "height": 167
        },
        "outputId": "2b842ba1-7c88-4e0d-fa32-8b031666d909"
      },
      "source": [
        "idades.remove(30)"
      ],
      "execution_count": null,
      "outputs": [
        {
          "output_type": "error",
          "ename": "ValueError",
          "evalue": "ignored",
          "traceback": [
            "\u001b[0;31m---------------------------------------------------------------------------\u001b[0m",
            "\u001b[0;31mValueError\u001b[0m                                Traceback (most recent call last)",
            "\u001b[0;32m<ipython-input-45-4f77f6ee3785>\u001b[0m in \u001b[0;36m<module>\u001b[0;34m()\u001b[0m\n\u001b[0;32m----> 1\u001b[0;31m \u001b[0midades\u001b[0m\u001b[0;34m.\u001b[0m\u001b[0mremove\u001b[0m\u001b[0;34m(\u001b[0m\u001b[0;36m30\u001b[0m\u001b[0;34m)\u001b[0m\u001b[0;34m\u001b[0m\u001b[0;34m\u001b[0m\u001b[0m\n\u001b[0m",
            "\u001b[0;31mValueError\u001b[0m: list.remove(x): x not in list"
          ]
        }
      ]
    },
    {
      "cell_type": "code",
      "metadata": {
        "id": "GPc5v28b9Ob7",
        "colab_type": "code",
        "colab": {}
      },
      "source": [
        "idades.append(15)"
      ],
      "execution_count": null,
      "outputs": []
    },
    {
      "cell_type": "code",
      "metadata": {
        "id": "LW3cB4409REL",
        "colab_type": "code",
        "colab": {
          "base_uri": "https://localhost:8080/",
          "height": 34
        },
        "outputId": "c8c24cdc-fe89-485d-d525-64cb3d710636"
      },
      "source": [
        "idades"
      ],
      "execution_count": null,
      "outputs": [
        {
          "output_type": "execute_result",
          "data": {
            "text/plain": [
              "[39, 27, 18, 15, 15]"
            ]
          },
          "metadata": {
            "tags": []
          },
          "execution_count": 47
        }
      ]
    },
    {
      "cell_type": "code",
      "metadata": {
        "id": "EtWM78j59Sz1",
        "colab_type": "code",
        "colab": {}
      },
      "source": [
        "idades.remove(15)"
      ],
      "execution_count": null,
      "outputs": []
    },
    {
      "cell_type": "code",
      "metadata": {
        "id": "k7JYcJto9Wgz",
        "colab_type": "code",
        "colab": {
          "base_uri": "https://localhost:8080/",
          "height": 34
        },
        "outputId": "1265cf41-c198-40d5-83fb-837d4e1766b2"
      },
      "source": [
        "idades"
      ],
      "execution_count": null,
      "outputs": [
        {
          "output_type": "execute_result",
          "data": {
            "text/plain": [
              "[39, 27, 18, 15]"
            ]
          },
          "metadata": {
            "tags": []
          },
          "execution_count": 49
        }
      ]
    },
    {
      "cell_type": "code",
      "metadata": {
        "id": "OhApV9BY98qy",
        "colab_type": "code",
        "colab": {
          "base_uri": "https://localhost:8080/",
          "height": 34
        },
        "outputId": "a18d35d8-d413-44f5-f32a-f387addef140"
      },
      "source": [
        "idades.append(27)\n",
        "idades.remove(27)\n",
        "idades"
      ],
      "execution_count": null,
      "outputs": [
        {
          "output_type": "execute_result",
          "data": {
            "text/plain": [
              "[39, 18, 15, 27]"
            ]
          },
          "metadata": {
            "tags": []
          },
          "execution_count": 50
        }
      ]
    },
    {
      "cell_type": "code",
      "metadata": {
        "id": "cLaleiU5-AIA",
        "colab_type": "code",
        "colab": {
          "base_uri": "https://localhost:8080/",
          "height": 34
        },
        "outputId": "25a30671-b4e7-4f60-9d0f-78607e79ef93"
      },
      "source": [
        "28 in idades"
      ],
      "execution_count": null,
      "outputs": [
        {
          "output_type": "execute_result",
          "data": {
            "text/plain": [
              "False"
            ]
          },
          "metadata": {
            "tags": []
          },
          "execution_count": 51
        }
      ]
    },
    {
      "cell_type": "code",
      "metadata": {
        "id": "2UVuHhGq--UK",
        "colab_type": "code",
        "colab": {
          "base_uri": "https://localhost:8080/",
          "height": 34
        },
        "outputId": "7d533136-be1b-4379-e5bb-a72d8df0b3ae"
      },
      "source": [
        "15 in idades"
      ],
      "execution_count": null,
      "outputs": [
        {
          "output_type": "execute_result",
          "data": {
            "text/plain": [
              "True"
            ]
          },
          "metadata": {
            "tags": []
          },
          "execution_count": 52
        }
      ]
    },
    {
      "cell_type": "code",
      "metadata": {
        "id": "tlTatHHG_Ad0",
        "colab_type": "code",
        "colab": {}
      },
      "source": [
        "if 15 in idades:\n",
        "  idades.remove(15)"
      ],
      "execution_count": null,
      "outputs": []
    },
    {
      "cell_type": "code",
      "metadata": {
        "id": "XZf1meyZ_G_4",
        "colab_type": "code",
        "colab": {
          "base_uri": "https://localhost:8080/",
          "height": 34
        },
        "outputId": "e76b56ea-93ff-4435-fcec-46dbfe268281"
      },
      "source": [
        "idades"
      ],
      "execution_count": null,
      "outputs": [
        {
          "output_type": "execute_result",
          "data": {
            "text/plain": [
              "[39, 18, 27]"
            ]
          },
          "metadata": {
            "tags": []
          },
          "execution_count": 54
        }
      ]
    },
    {
      "cell_type": "code",
      "metadata": {
        "id": "9Jl8TsQm_IC3",
        "colab_type": "code",
        "colab": {}
      },
      "source": [
        "if 28 in idades:\n",
        "  idades.remove(28)"
      ],
      "execution_count": null,
      "outputs": []
    },
    {
      "cell_type": "code",
      "metadata": {
        "id": "OIcdJPoU_Nvu",
        "colab_type": "code",
        "colab": {
          "base_uri": "https://localhost:8080/",
          "height": 34
        },
        "outputId": "da6b75fd-ccc3-44d0-a3b5-2f887f5ccfe2"
      },
      "source": [
        "idades"
      ],
      "execution_count": null,
      "outputs": [
        {
          "output_type": "execute_result",
          "data": {
            "text/plain": [
              "[39, 18, 27]"
            ]
          },
          "metadata": {
            "tags": []
          },
          "execution_count": 56
        }
      ]
    },
    {
      "cell_type": "code",
      "metadata": {
        "id": "Ejnl1z6V_O-p",
        "colab_type": "code",
        "colab": {
          "base_uri": "https://localhost:8080/",
          "height": 34
        },
        "outputId": "ebbb470d-9c58-4003-8423-541564b6c7c7"
      },
      "source": [
        "idades.append(19)\n",
        "idades"
      ],
      "execution_count": null,
      "outputs": [
        {
          "output_type": "execute_result",
          "data": {
            "text/plain": [
              "[39, 18, 27, 19]"
            ]
          },
          "metadata": {
            "tags": []
          },
          "execution_count": 57
        }
      ]
    },
    {
      "cell_type": "code",
      "metadata": {
        "id": "VnWI9HJS_T5y",
        "colab_type": "code",
        "colab": {
          "base_uri": "https://localhost:8080/",
          "height": 34
        },
        "outputId": "b7f21b64-714a-4936-f82c-35d7b684f978"
      },
      "source": [
        "idades.insert(0, 20)\n",
        "idades"
      ],
      "execution_count": null,
      "outputs": [
        {
          "output_type": "execute_result",
          "data": {
            "text/plain": [
              "[20, 39, 18, 27, 19]"
            ]
          },
          "metadata": {
            "tags": []
          },
          "execution_count": 58
        }
      ]
    },
    {
      "cell_type": "code",
      "metadata": {
        "id": "A3KGYzUN_cfd",
        "colab_type": "code",
        "colab": {
          "base_uri": "https://localhost:8080/",
          "height": 34
        },
        "outputId": "3ddfb49f-c365-4404-c688-fb8757c43882"
      },
      "source": [
        "idades = [20, 39, 18]\n",
        "idades"
      ],
      "execution_count": null,
      "outputs": [
        {
          "output_type": "execute_result",
          "data": {
            "text/plain": [
              "[20, 39, 18]"
            ]
          },
          "metadata": {
            "tags": []
          },
          "execution_count": 59
        }
      ]
    },
    {
      "cell_type": "code",
      "metadata": {
        "id": "Qt50A11S_i-q",
        "colab_type": "code",
        "colab": {}
      },
      "source": [
        "idades.append([27, 19])"
      ],
      "execution_count": null,
      "outputs": []
    },
    {
      "cell_type": "code",
      "metadata": {
        "id": "OACbzQWa_llt",
        "colab_type": "code",
        "colab": {
          "base_uri": "https://localhost:8080/",
          "height": 34
        },
        "outputId": "d9426e3f-627d-4932-ac5f-9c770850ec65"
      },
      "source": [
        "idades"
      ],
      "execution_count": null,
      "outputs": [
        {
          "output_type": "execute_result",
          "data": {
            "text/plain": [
              "[20, 39, 18, [27, 19]]"
            ]
          },
          "metadata": {
            "tags": []
          },
          "execution_count": 62
        }
      ]
    },
    {
      "cell_type": "code",
      "metadata": {
        "id": "lSRnz-0a_rc3",
        "colab_type": "code",
        "colab": {
          "base_uri": "https://localhost:8080/",
          "height": 86
        },
        "outputId": "7b0d1631-17a8-406f-cca7-04e9010d6efb"
      },
      "source": [
        "for elemento in idades:\n",
        "  print(\"Recebi o elemento: {}.\".format(elemento))"
      ],
      "execution_count": null,
      "outputs": [
        {
          "output_type": "stream",
          "text": [
            "Recebi o elemento: 20.\n",
            "Recebi o elemento: 39.\n",
            "Recebi o elemento: 18.\n",
            "Recebi o elemento: [27, 19].\n"
          ],
          "name": "stdout"
        }
      ]
    },
    {
      "cell_type": "code",
      "metadata": {
        "id": "u08AjzVD_4-M",
        "colab_type": "code",
        "colab": {
          "base_uri": "https://localhost:8080/",
          "height": 34
        },
        "outputId": "66a24212-a924-4f12-c02c-ef822811715e"
      },
      "source": [
        "idades = [20, 39, 18]\n",
        "idades.extend([27, 19])\n",
        "idades"
      ],
      "execution_count": null,
      "outputs": [
        {
          "output_type": "execute_result",
          "data": {
            "text/plain": [
              "[20, 39, 18, 27, 19]"
            ]
          },
          "metadata": {
            "tags": []
          },
          "execution_count": 65
        }
      ]
    },
    {
      "cell_type": "code",
      "metadata": {
        "id": "EPaYZX5rAIpu",
        "colab_type": "code",
        "colab": {
          "base_uri": "https://localhost:8080/",
          "height": 104
        },
        "outputId": "5aa887f5-f28d-43cf-891d-55247e565400"
      },
      "source": [
        "for idade in idades:\n",
        "  print(idade + 1)"
      ],
      "execution_count": null,
      "outputs": [
        {
          "output_type": "stream",
          "text": [
            "21\n",
            "40\n",
            "19\n",
            "28\n",
            "20\n"
          ],
          "name": "stdout"
        }
      ]
    },
    {
      "cell_type": "code",
      "metadata": {
        "id": "48uukKIxBqiL",
        "colab_type": "code",
        "colab": {
          "base_uri": "https://localhost:8080/",
          "height": 34
        },
        "outputId": "29d9f9fd-deed-4867-ab80-c05591c6c87b"
      },
      "source": [
        "idades_no_ano_que_vem = []\n",
        "for idade in idades:\n",
        "  idades_no_ano_que_vem.append(idade + 1)\n",
        "idades_no_ano_que_vem"
      ],
      "execution_count": null,
      "outputs": [
        {
          "output_type": "execute_result",
          "data": {
            "text/plain": [
              "[21, 40, 19, 28, 20]"
            ]
          },
          "metadata": {
            "tags": []
          },
          "execution_count": 67
        }
      ]
    },
    {
      "cell_type": "code",
      "metadata": {
        "id": "d5NBIdIiB3RD",
        "colab_type": "code",
        "colab": {
          "base_uri": "https://localhost:8080/",
          "height": 34
        },
        "outputId": "294a07c0-621a-468c-d74a-3b30f5a9c320"
      },
      "source": [
        "idades_no_ano_que_vem = [(idade + 1) for idade in idades]\n",
        "idades_no_ano_que_vem"
      ],
      "execution_count": null,
      "outputs": [
        {
          "output_type": "execute_result",
          "data": {
            "text/plain": [
              "[21, 40, 19, 28, 20]"
            ]
          },
          "metadata": {
            "tags": []
          },
          "execution_count": 69
        }
      ]
    },
    {
      "cell_type": "code",
      "metadata": {
        "id": "xuy2I6h3CYdn",
        "colab_type": "code",
        "colab": {
          "base_uri": "https://localhost:8080/",
          "height": 34
        },
        "outputId": "1b434c76-9ec5-42b9-8eaa-798f1ad1ba39"
      },
      "source": [
        "[(idade)for idade in idades if idade > 21]"
      ],
      "execution_count": null,
      "outputs": [
        {
          "output_type": "execute_result",
          "data": {
            "text/plain": [
              "[39, 27]"
            ]
          },
          "metadata": {
            "tags": []
          },
          "execution_count": 70
        }
      ]
    },
    {
      "cell_type": "code",
      "metadata": {
        "id": "bsViTN_HC0kp",
        "colab_type": "code",
        "colab": {
          "base_uri": "https://localhost:8080/",
          "height": 34
        },
        "outputId": "4930b0ac-58be-439b-b3f5-3aaff32da812"
      },
      "source": [
        "idades"
      ],
      "execution_count": null,
      "outputs": [
        {
          "output_type": "execute_result",
          "data": {
            "text/plain": [
              "[20, 39, 18, 27, 19]"
            ]
          },
          "metadata": {
            "tags": []
          },
          "execution_count": 71
        }
      ]
    },
    {
      "cell_type": "code",
      "metadata": {
        "id": "mqnITCKoC4AU",
        "colab_type": "code",
        "colab": {
          "base_uri": "https://localhost:8080/",
          "height": 34
        },
        "outputId": "fb356a40-b41a-4663-e0b9-15695722699b"
      },
      "source": [
        "def proximo_ano(idade):\n",
        "  return idade + 1\n",
        "\n",
        "[proximo_ano(idade) for idade in idades if idade > 21]"
      ],
      "execution_count": null,
      "outputs": [
        {
          "output_type": "execute_result",
          "data": {
            "text/plain": [
              "[40, 28]"
            ]
          },
          "metadata": {
            "tags": []
          },
          "execution_count": 73
        }
      ]
    },
    {
      "cell_type": "code",
      "metadata": {
        "id": "BsAMGI_HDOWE",
        "colab_type": "code",
        "colab": {}
      },
      "source": [
        "def faz_processamento_de_visualizacao(lista):\n",
        "  print(len(lista))\n",
        "  lista.append(13)"
      ],
      "execution_count": null,
      "outputs": []
    },
    {
      "cell_type": "code",
      "metadata": {
        "id": "U2Yl85ztEazN",
        "colab_type": "code",
        "colab": {
          "base_uri": "https://localhost:8080/",
          "height": 52
        },
        "outputId": "aab5cae5-db57-4282-aa9b-4d438a344ddd"
      },
      "source": [
        "idades = [16, 21, 29, 56, 43]\n",
        "faz_processamento_de_visualizacao(idades)\n",
        "idades"
      ],
      "execution_count": null,
      "outputs": [
        {
          "output_type": "stream",
          "text": [
            "5\n"
          ],
          "name": "stdout"
        },
        {
          "output_type": "execute_result",
          "data": {
            "text/plain": [
              "[16, 21, 29, 56, 43, 13]"
            ]
          },
          "metadata": {
            "tags": []
          },
          "execution_count": 78
        }
      ]
    },
    {
      "cell_type": "code",
      "metadata": {
        "id": "Wq4HfcwsEkik",
        "colab_type": "code",
        "colab": {}
      },
      "source": [
        "def faz_processamento_de_visualizacao(lista = []):\n",
        "  print(len(lista))\n",
        "  lista.append(13)"
      ],
      "execution_count": null,
      "outputs": []
    },
    {
      "cell_type": "code",
      "metadata": {
        "id": "7kRvu2BhFNBI",
        "colab_type": "code",
        "colab": {
          "base_uri": "https://localhost:8080/",
          "height": 34
        },
        "outputId": "eee9d458-d1b7-48ea-813f-a7a0596662bb"
      },
      "source": [
        "faz_processamento_de_visualizacao()"
      ],
      "execution_count": null,
      "outputs": [
        {
          "output_type": "stream",
          "text": [
            "0\n"
          ],
          "name": "stdout"
        }
      ]
    },
    {
      "cell_type": "code",
      "metadata": {
        "id": "8rrGmqkWFQx-",
        "colab_type": "code",
        "colab": {
          "base_uri": "https://localhost:8080/",
          "height": 34
        },
        "outputId": "bedb0cb0-7e2f-4bd3-deed-e441d9aed849"
      },
      "source": [
        "faz_processamento_de_visualizacao()"
      ],
      "execution_count": null,
      "outputs": [
        {
          "output_type": "stream",
          "text": [
            "1\n"
          ],
          "name": "stdout"
        }
      ]
    },
    {
      "cell_type": "code",
      "metadata": {
        "id": "7V8mmjHbFTtw",
        "colab_type": "code",
        "colab": {
          "base_uri": "https://localhost:8080/",
          "height": 34
        },
        "outputId": "6344bc95-ec2f-42d2-c457-22ebaeeb8f6d"
      },
      "source": [
        "faz_processamento_de_visualizacao()"
      ],
      "execution_count": null,
      "outputs": [
        {
          "output_type": "stream",
          "text": [
            "2\n"
          ],
          "name": "stdout"
        }
      ]
    },
    {
      "cell_type": "code",
      "metadata": {
        "id": "L1BNZtVbFghE",
        "colab_type": "code",
        "colab": {
          "base_uri": "https://localhost:8080/",
          "height": 34
        },
        "outputId": "2877fcf3-afc3-4a64-b59c-f4d80ee8ae18"
      },
      "source": [
        "faz_processamento_de_visualizacao()"
      ],
      "execution_count": null,
      "outputs": [
        {
          "output_type": "stream",
          "text": [
            "3\n"
          ],
          "name": "stdout"
        }
      ]
    },
    {
      "cell_type": "code",
      "metadata": {
        "id": "dS6bIrpSFh8Y",
        "colab_type": "code",
        "colab": {}
      },
      "source": [
        "def faz_processamento_de_visualizacao(lista = list()):\n",
        "  print(len(lista))\n",
        "  print(lista)\n",
        "  lista.append(13)"
      ],
      "execution_count": null,
      "outputs": []
    },
    {
      "cell_type": "code",
      "metadata": {
        "id": "vocCNxf6F9l9",
        "colab_type": "code",
        "colab": {
          "base_uri": "https://localhost:8080/",
          "height": 86
        },
        "outputId": "ee12d3a4-4267-482c-eafd-b888e6e4d152"
      },
      "source": [
        "faz_processamento_de_visualizacao()\n",
        "faz_processamento_de_visualizacao()"
      ],
      "execution_count": null,
      "outputs": [
        {
          "output_type": "stream",
          "text": [
            "0\n",
            "[]\n",
            "1\n",
            "[13]\n"
          ],
          "name": "stdout"
        }
      ]
    },
    {
      "cell_type": "code",
      "metadata": {
        "id": "AaQDJVpxGCIZ",
        "colab_type": "code",
        "colab": {}
      },
      "source": [
        "def faz_processamento_de_visualizacao(lista = None):\n",
        "  if lista == None:\n",
        "    lista = list()\n",
        "  print(len(lista))\n",
        "  print(lista)\n",
        "  lista.append(13)"
      ],
      "execution_count": null,
      "outputs": []
    },
    {
      "cell_type": "code",
      "metadata": {
        "id": "_QMeLXpUGN5-",
        "colab_type": "code",
        "colab": {
          "base_uri": "https://localhost:8080/",
          "height": 156
        },
        "outputId": "93b9d982-ded5-4a7c-c966-7264f34fc122"
      },
      "source": [
        "faz_processamento_de_visualizacao()\n",
        "faz_processamento_de_visualizacao()\n",
        "faz_processamento_de_visualizacao()\n",
        "faz_processamento_de_visualizacao()"
      ],
      "execution_count": null,
      "outputs": [
        {
          "output_type": "stream",
          "text": [
            "0\n",
            "[]\n",
            "0\n",
            "[]\n",
            "0\n",
            "[]\n",
            "0\n",
            "[]\n"
          ],
          "name": "stdout"
        }
      ]
    },
    {
      "cell_type": "markdown",
      "metadata": {
        "id": "ucpg116PGrZo",
        "colab_type": "text"
      },
      "source": [
        "# Objetos Próprios"
      ]
    },
    {
      "cell_type": "code",
      "metadata": {
        "id": "m7YP7y_tGhMv",
        "colab_type": "code",
        "colab": {}
      },
      "source": [
        "class ContaCorrente:\n",
        "  def __init__(self, codigo):\n",
        "    self.codigo = codigo\n",
        "    self.saldo = 0\n",
        "\n",
        "  def deposita(self, valor):\n",
        "    self.saldo += valor\n",
        "\n",
        "  def __str__(self):\n",
        "    return \"[>>Codigo {} Saldo {}<<]\".format(self.codigo, self.saldo)"
      ],
      "execution_count": 16,
      "outputs": []
    },
    {
      "cell_type": "code",
      "metadata": {
        "id": "G3QVTVT_HwtI",
        "colab_type": "code",
        "colab": {
          "base_uri": "https://localhost:8080/",
          "height": 34
        },
        "outputId": "d17bc45f-4616-48e8-882f-dfd1ae8bfe21"
      },
      "source": [
        "conta_do_ze = ContaCorrente(15)\n",
        "print(conta_do_ze)"
      ],
      "execution_count": 17,
      "outputs": [
        {
          "output_type": "stream",
          "text": [
            "[>>Codigo 15 Saldo 0<<]\n"
          ],
          "name": "stdout"
        }
      ]
    },
    {
      "cell_type": "code",
      "metadata": {
        "id": "ODyRTWj_H5Xg",
        "colab_type": "code",
        "colab": {
          "base_uri": "https://localhost:8080/",
          "height": 34
        },
        "outputId": "58057043-f550-4aeb-8b39-417159177320"
      },
      "source": [
        "conta_do_ciclano = ContaCorrente(47685)\n",
        "conta_do_ciclano.deposita(5000)\n",
        "print(conta_do_ciclano)"
      ],
      "execution_count": 18,
      "outputs": [
        {
          "output_type": "stream",
          "text": [
            "[>>Codigo 47685 Saldo 5000<<]\n"
          ],
          "name": "stdout"
        }
      ]
    },
    {
      "cell_type": "code",
      "metadata": {
        "id": "DV7a7Um-IRXZ",
        "colab_type": "code",
        "colab": {
          "base_uri": "https://localhost:8080/",
          "height": 52
        },
        "outputId": "c8e4ffae-7301-4d3a-c7b7-6118d57ca339"
      },
      "source": [
        "contas = [conta_do_ze, conta_do_ciclano]\n",
        "for conta in contas:\n",
        "  print(conta)"
      ],
      "execution_count": 31,
      "outputs": [
        {
          "output_type": "stream",
          "text": [
            "[>>Codigo 15 Saldo 1400<<]\n",
            "[>>Codigo 47685 Saldo 5100<<]\n"
          ],
          "name": "stdout"
        }
      ]
    },
    {
      "cell_type": "code",
      "metadata": {
        "id": "RlR4bQQ9IbbI",
        "colab_type": "code",
        "colab": {}
      },
      "source": [
        "contas = [conta_do_ze, conta_do_ciclano, conta_do_ze]"
      ],
      "execution_count": 32,
      "outputs": []
    },
    {
      "cell_type": "code",
      "metadata": {
        "id": "Mz9htycrI5lC",
        "colab_type": "code",
        "colab": {
          "base_uri": "https://localhost:8080/",
          "height": 34
        },
        "outputId": "905fca5b-d856-4363-c230-d817e9e1e465"
      },
      "source": [
        "print(contas[0])"
      ],
      "execution_count": 33,
      "outputs": [
        {
          "output_type": "stream",
          "text": [
            "[>>Codigo 15 Saldo 1400<<]\n"
          ],
          "name": "stdout"
        }
      ]
    },
    {
      "cell_type": "code",
      "metadata": {
        "id": "tCWfaWoiI7S0",
        "colab_type": "code",
        "colab": {}
      },
      "source": [
        "conta_do_ze.deposita(500)"
      ],
      "execution_count": 34,
      "outputs": []
    },
    {
      "cell_type": "code",
      "metadata": {
        "id": "Kt-ZIeL_JD0Z",
        "colab_type": "code",
        "colab": {
          "base_uri": "https://localhost:8080/",
          "height": 34
        },
        "outputId": "b654f928-aee6-4afd-a9a1-777713df6fbe"
      },
      "source": [
        "print(contas[0])"
      ],
      "execution_count": 35,
      "outputs": [
        {
          "output_type": "stream",
          "text": [
            "[>>Codigo 15 Saldo 1900<<]\n"
          ],
          "name": "stdout"
        }
      ]
    },
    {
      "cell_type": "code",
      "metadata": {
        "id": "SZyTqrAFJLmy",
        "colab_type": "code",
        "colab": {
          "base_uri": "https://localhost:8080/",
          "height": 34
        },
        "outputId": "146861de-b43c-447b-a814-a75505d7923d"
      },
      "source": [
        "print(conta_do_ze)"
      ],
      "execution_count": 36,
      "outputs": [
        {
          "output_type": "stream",
          "text": [
            "[>>Codigo 15 Saldo 1900<<]\n"
          ],
          "name": "stdout"
        }
      ]
    },
    {
      "cell_type": "code",
      "metadata": {
        "id": "qLuUeLliJPwg",
        "colab_type": "code",
        "colab": {
          "base_uri": "https://localhost:8080/",
          "height": 34
        },
        "outputId": "d2c228f9-28ee-452b-f4e2-a30cf16411a2"
      },
      "source": [
        "print(contas[2])"
      ],
      "execution_count": 37,
      "outputs": [
        {
          "output_type": "stream",
          "text": [
            "[>>Codigo 15 Saldo 1900<<]\n"
          ],
          "name": "stdout"
        }
      ]
    },
    {
      "cell_type": "code",
      "metadata": {
        "id": "p8HqeuG6JiBO",
        "colab_type": "code",
        "colab": {}
      },
      "source": [
        "contas[2].deposita(800)"
      ],
      "execution_count": 38,
      "outputs": []
    },
    {
      "cell_type": "code",
      "metadata": {
        "id": "NjJMKCJQJu-L",
        "colab_type": "code",
        "colab": {
          "base_uri": "https://localhost:8080/",
          "height": 52
        },
        "outputId": "7d69c6f9-90a9-4ba3-c381-8a367006b8f2"
      },
      "source": [
        "def deposita_para_todas(contas):\n",
        "  for conta in contas:\n",
        "    conta.deposita(100)\n",
        "\n",
        "contas = [conta_do_ze, conta_do_ciclano]\n",
        "print(contas[0], contas[1])\n",
        "deposita_para_todas(contas)\n",
        "print(contas[0], contas[1])"
      ],
      "execution_count": 39,
      "outputs": [
        {
          "output_type": "stream",
          "text": [
            "[>>Codigo 15 Saldo 2700<<] [>>Codigo 47685 Saldo 5100<<]\n",
            "[>>Codigo 15 Saldo 2800<<] [>>Codigo 47685 Saldo 5200<<]\n"
          ],
          "name": "stdout"
        }
      ]
    },
    {
      "cell_type": "code",
      "metadata": {
        "id": "TtdNOxHTkcay",
        "colab_type": "code",
        "colab": {
          "base_uri": "https://localhost:8080/",
          "height": 34
        },
        "outputId": "16c80d80-385c-4ecb-e7ac-fe713a74eebc"
      },
      "source": [
        "contas.insert(0, 76)\n",
        "print(contas[0], contas[1], contas[2])"
      ],
      "execution_count": 40,
      "outputs": [
        {
          "output_type": "stream",
          "text": [
            "76 [>>Codigo 15 Saldo 2800<<] [>>Codigo 47685 Saldo 5200<<]\n"
          ],
          "name": "stdout"
        }
      ]
    },
    {
      "cell_type": "code",
      "metadata": {
        "id": "XOEiZfcYk_Y4",
        "colab_type": "code",
        "colab": {
          "base_uri": "https://localhost:8080/",
          "height": 306
        },
        "outputId": "09243606-e8b5-4d3f-888d-16a4829b7ae5"
      },
      "source": [
        "deposita_para_todas(contas)\n",
        "print(contas[0], contas[1], contas[2])"
      ],
      "execution_count": 42,
      "outputs": [
        {
          "output_type": "error",
          "ename": "AttributeError",
          "evalue": "ignored",
          "traceback": [
            "\u001b[0;31m---------------------------------------------------------------------------\u001b[0m",
            "\u001b[0;31mAttributeError\u001b[0m                            Traceback (most recent call last)",
            "\u001b[0;32m<ipython-input-42-92ac4487eece>\u001b[0m in \u001b[0;36m<module>\u001b[0;34m()\u001b[0m\n\u001b[0;32m----> 1\u001b[0;31m \u001b[0mdeposita_para_todas\u001b[0m\u001b[0;34m(\u001b[0m\u001b[0mcontas\u001b[0m\u001b[0;34m)\u001b[0m\u001b[0;34m\u001b[0m\u001b[0;34m\u001b[0m\u001b[0m\n\u001b[0m\u001b[1;32m      2\u001b[0m \u001b[0mprint\u001b[0m\u001b[0;34m(\u001b[0m\u001b[0mcontas\u001b[0m\u001b[0;34m[\u001b[0m\u001b[0;36m0\u001b[0m\u001b[0;34m]\u001b[0m\u001b[0;34m,\u001b[0m \u001b[0mcontas\u001b[0m\u001b[0;34m[\u001b[0m\u001b[0;36m1\u001b[0m\u001b[0;34m]\u001b[0m\u001b[0;34m,\u001b[0m \u001b[0mcontas\u001b[0m\u001b[0;34m[\u001b[0m\u001b[0;36m2\u001b[0m\u001b[0;34m]\u001b[0m\u001b[0;34m)\u001b[0m\u001b[0;34m\u001b[0m\u001b[0;34m\u001b[0m\u001b[0m\n",
            "\u001b[0;32m<ipython-input-39-578db69e1b9e>\u001b[0m in \u001b[0;36mdeposita_para_todas\u001b[0;34m(contas)\u001b[0m\n\u001b[1;32m      1\u001b[0m \u001b[0;32mdef\u001b[0m \u001b[0mdeposita_para_todas\u001b[0m\u001b[0;34m(\u001b[0m\u001b[0mcontas\u001b[0m\u001b[0;34m)\u001b[0m\u001b[0;34m:\u001b[0m\u001b[0;34m\u001b[0m\u001b[0;34m\u001b[0m\u001b[0m\n\u001b[1;32m      2\u001b[0m   \u001b[0;32mfor\u001b[0m \u001b[0mconta\u001b[0m \u001b[0;32min\u001b[0m \u001b[0mcontas\u001b[0m\u001b[0;34m:\u001b[0m\u001b[0;34m\u001b[0m\u001b[0;34m\u001b[0m\u001b[0m\n\u001b[0;32m----> 3\u001b[0;31m     \u001b[0mconta\u001b[0m\u001b[0;34m.\u001b[0m\u001b[0mdeposita\u001b[0m\u001b[0;34m(\u001b[0m\u001b[0;36m100\u001b[0m\u001b[0;34m)\u001b[0m\u001b[0;34m\u001b[0m\u001b[0;34m\u001b[0m\u001b[0m\n\u001b[0m\u001b[1;32m      4\u001b[0m \u001b[0;34m\u001b[0m\u001b[0m\n\u001b[1;32m      5\u001b[0m \u001b[0mcontas\u001b[0m \u001b[0;34m=\u001b[0m \u001b[0;34m[\u001b[0m\u001b[0mconta_do_ze\u001b[0m\u001b[0;34m,\u001b[0m \u001b[0mconta_do_ciclano\u001b[0m\u001b[0;34m]\u001b[0m\u001b[0;34m\u001b[0m\u001b[0;34m\u001b[0m\u001b[0m\n",
            "\u001b[0;31mAttributeError\u001b[0m: 'int' object has no attribute 'deposita'"
          ]
        }
      ]
    },
    {
      "cell_type": "code",
      "metadata": {
        "id": "CBNOIzmOlZjk",
        "colab_type": "code",
        "colab": {}
      },
      "source": [
        "joao = ('João da Silva', 60, 1942) #tupla\n",
        "jose = ('Jose da Silva', 23, 1989)\n",
        "# paulo = (39, 'Paulo', 1900) #ruim"
      ],
      "execution_count": 43,
      "outputs": []
    },
    {
      "cell_type": "code",
      "metadata": {
        "id": "pSdrMxtkmTWx",
        "colab_type": "code",
        "colab": {
          "base_uri": "https://localhost:8080/",
          "height": 167
        },
        "outputId": "3c1b71a4-7290-4e8c-dda6-6b2726e922c0"
      },
      "source": [
        "joao.append(3223)"
      ],
      "execution_count": 44,
      "outputs": [
        {
          "output_type": "error",
          "ename": "AttributeError",
          "evalue": "ignored",
          "traceback": [
            "\u001b[0;31m---------------------------------------------------------------------------\u001b[0m",
            "\u001b[0;31mAttributeError\u001b[0m                            Traceback (most recent call last)",
            "\u001b[0;32m<ipython-input-44-bc12f97be081>\u001b[0m in \u001b[0;36m<module>\u001b[0;34m()\u001b[0m\n\u001b[0;32m----> 1\u001b[0;31m \u001b[0mjoao\u001b[0m\u001b[0;34m.\u001b[0m\u001b[0mappend\u001b[0m\u001b[0;34m(\u001b[0m\u001b[0;36m3223\u001b[0m\u001b[0;34m)\u001b[0m\u001b[0;34m\u001b[0m\u001b[0;34m\u001b[0m\u001b[0m\n\u001b[0m",
            "\u001b[0;31mAttributeError\u001b[0m: 'tuple' object has no attribute 'append'"
          ]
        }
      ]
    },
    {
      "cell_type": "code",
      "metadata": {
        "id": "9kaS9D1vmWip",
        "colab_type": "code",
        "colab": {
          "base_uri": "https://localhost:8080/",
          "height": 34
        },
        "outputId": "5f122844-09db-4cb3-9b21-665c7eb30e85"
      },
      "source": [
        "conta_do_ciclano = (15, 1000)\n",
        "# conta_do_ciclano.deposita() #variacao oo\n",
        "conta_do_ciclano[1]"
      ],
      "execution_count": 51,
      "outputs": [
        {
          "output_type": "execute_result",
          "data": {
            "text/plain": [
              "1000"
            ]
          },
          "metadata": {
            "tags": []
          },
          "execution_count": 51
        }
      ]
    },
    {
      "cell_type": "code",
      "metadata": {
        "id": "oSWW8zodm-UI",
        "colab_type": "code",
        "colab": {
          "base_uri": "https://localhost:8080/",
          "height": 167
        },
        "outputId": "f66811f2-760f-47d2-baea-13164c5112ba"
      },
      "source": [
        "conta_do_ciclano[1] += 100"
      ],
      "execution_count": 52,
      "outputs": [
        {
          "output_type": "error",
          "ename": "TypeError",
          "evalue": "ignored",
          "traceback": [
            "\u001b[0;31m---------------------------------------------------------------------------\u001b[0m",
            "\u001b[0;31mTypeError\u001b[0m                                 Traceback (most recent call last)",
            "\u001b[0;32m<ipython-input-52-3cc3282a1ea1>\u001b[0m in \u001b[0;36m<module>\u001b[0;34m()\u001b[0m\n\u001b[0;32m----> 1\u001b[0;31m \u001b[0mconta_do_ciclano\u001b[0m\u001b[0;34m[\u001b[0m\u001b[0;36m1\u001b[0m\u001b[0;34m]\u001b[0m \u001b[0;34m+=\u001b[0m \u001b[0;36m100\u001b[0m\u001b[0;34m\u001b[0m\u001b[0;34m\u001b[0m\u001b[0m\n\u001b[0m",
            "\u001b[0;31mTypeError\u001b[0m: 'tuple' object does not support item assignment"
          ]
        }
      ]
    },
    {
      "cell_type": "code",
      "metadata": {
        "id": "h0hmNPPtnBJA",
        "colab_type": "code",
        "colab": {}
      },
      "source": [
        "def deposita(conta): #variacao funcional\n",
        "  novo_saldo = conta[1] + 100\n",
        "  codigo = conta[0]\n",
        "  return (codigo, novo_saldo)"
      ],
      "execution_count": 53,
      "outputs": []
    },
    {
      "cell_type": "code",
      "metadata": {
        "id": "WGhg3IdZnTPA",
        "colab_type": "code",
        "colab": {
          "base_uri": "https://localhost:8080/",
          "height": 34
        },
        "outputId": "d99f30e8-efe4-47df-fd14-cd880fc62ce8"
      },
      "source": [
        "deposita(conta_do_ciclano)"
      ],
      "execution_count": 54,
      "outputs": [
        {
          "output_type": "execute_result",
          "data": {
            "text/plain": [
              "(15, 1100)"
            ]
          },
          "metadata": {
            "tags": []
          },
          "execution_count": 54
        }
      ]
    },
    {
      "cell_type": "code",
      "metadata": {
        "id": "vzVHZyV_nVQ9",
        "colab_type": "code",
        "colab": {
          "base_uri": "https://localhost:8080/",
          "height": 34
        },
        "outputId": "a1ccfa6f-e2fe-4df4-911a-1262358b03bc"
      },
      "source": [
        "conta_do_ciclano"
      ],
      "execution_count": 55,
      "outputs": [
        {
          "output_type": "execute_result",
          "data": {
            "text/plain": [
              "(15, 1000)"
            ]
          },
          "metadata": {
            "tags": []
          },
          "execution_count": 55
        }
      ]
    },
    {
      "cell_type": "code",
      "metadata": {
        "id": "u42gGac-nXgI",
        "colab_type": "code",
        "colab": {
          "base_uri": "https://localhost:8080/",
          "height": 34
        },
        "outputId": "447947dc-e9d1-4b01-cfd9-f453acb4ba2a"
      },
      "source": [
        "conta_do_ciclano = deposita(conta_do_ciclano)\n",
        "conta_do_ciclano"
      ],
      "execution_count": 56,
      "outputs": [
        {
          "output_type": "execute_result",
          "data": {
            "text/plain": [
              "(15, 1100)"
            ]
          },
          "metadata": {
            "tags": []
          },
          "execution_count": 56
        }
      ]
    },
    {
      "cell_type": "code",
      "metadata": {
        "id": "sMRHgXohnbP1",
        "colab_type": "code",
        "colab": {
          "base_uri": "https://localhost:8080/",
          "height": 34
        },
        "outputId": "ece0bc06-c001-4dde-f2ed-dca36c72a734"
      },
      "source": [
        "usuarios = [jose, joao]\n",
        "usuarios"
      ],
      "execution_count": 57,
      "outputs": [
        {
          "output_type": "execute_result",
          "data": {
            "text/plain": [
              "[('Jose da Silva', 23, 1989), ('João da Silva', 60, 1942)]"
            ]
          },
          "metadata": {
            "tags": []
          },
          "execution_count": 57
        }
      ]
    },
    {
      "cell_type": "code",
      "metadata": {
        "id": "Z4yVCGRXqMmY",
        "colab_type": "code",
        "colab": {}
      },
      "source": [
        "usuarios.append(('Joel', 32, 1943))"
      ],
      "execution_count": 58,
      "outputs": []
    },
    {
      "cell_type": "code",
      "metadata": {
        "id": "68CYvFOqqWu3",
        "colab_type": "code",
        "colab": {
          "base_uri": "https://localhost:8080/",
          "height": 34
        },
        "outputId": "83ccb673-1216-46ad-b27c-a2866aeb4558"
      },
      "source": [
        "usuarios"
      ],
      "execution_count": 59,
      "outputs": [
        {
          "output_type": "execute_result",
          "data": {
            "text/plain": [
              "[('Jose da Silva', 23, 1989), ('João da Silva', 60, 1942), ('Joel', 32, 1943)]"
            ]
          },
          "metadata": {
            "tags": []
          },
          "execution_count": 59
        }
      ]
    },
    {
      "cell_type": "code",
      "metadata": {
        "id": "f700NB31qX1_",
        "colab_type": "code",
        "colab": {
          "base_uri": "https://localhost:8080/",
          "height": 34
        },
        "outputId": "c2fb189c-3f4c-4c4c-e99c-e3a110acb1b4"
      },
      "source": [
        "usuarios[0]"
      ],
      "execution_count": 60,
      "outputs": [
        {
          "output_type": "execute_result",
          "data": {
            "text/plain": [
              "('Jose da Silva', 23, 1989)"
            ]
          },
          "metadata": {
            "tags": []
          },
          "execution_count": 60
        }
      ]
    },
    {
      "cell_type": "code",
      "metadata": {
        "id": "mnjcOW4pqdlr",
        "colab_type": "code",
        "colab": {
          "base_uri": "https://localhost:8080/",
          "height": 167
        },
        "outputId": "f371a27c-e662-4836-ca67-e4bb78fa3fd2"
      },
      "source": [
        "usuarios[0][0] = 'Jose da Silva Pinho'"
      ],
      "execution_count": 62,
      "outputs": [
        {
          "output_type": "error",
          "ename": "TypeError",
          "evalue": "ignored",
          "traceback": [
            "\u001b[0;31m---------------------------------------------------------------------------\u001b[0m",
            "\u001b[0;31mTypeError\u001b[0m                                 Traceback (most recent call last)",
            "\u001b[0;32m<ipython-input-62-e36a795c77df>\u001b[0m in \u001b[0;36m<module>\u001b[0;34m()\u001b[0m\n\u001b[0;32m----> 1\u001b[0;31m \u001b[0musuarios\u001b[0m\u001b[0;34m[\u001b[0m\u001b[0;36m0\u001b[0m\u001b[0;34m]\u001b[0m\u001b[0;34m[\u001b[0m\u001b[0;36m0\u001b[0m\u001b[0;34m]\u001b[0m \u001b[0;34m=\u001b[0m \u001b[0;34m'Jose da Silva Pinho'\u001b[0m\u001b[0;34m\u001b[0m\u001b[0;34m\u001b[0m\u001b[0m\n\u001b[0m",
            "\u001b[0;31mTypeError\u001b[0m: 'tuple' object does not support item assignment"
          ]
        }
      ]
    },
    {
      "cell_type": "code",
      "metadata": {
        "id": "umONmwMyqh9A",
        "colab_type": "code",
        "colab": {}
      },
      "source": [
        "conta_do_ze = ContaCorrente(15)\n",
        "conta_do_ze.deposita(500)\n",
        "conta_do_ciclano = ContaCorrente(1232139)\n",
        "conta_do_ciclano.deposita(10000)\n",
        "\n",
        "contas = (conta_do_ciclano, conta_do_ze)"
      ],
      "execution_count": 68,
      "outputs": []
    },
    {
      "cell_type": "code",
      "metadata": {
        "id": "zzTxiMH0q8u1",
        "colab_type": "code",
        "colab": {
          "base_uri": "https://localhost:8080/",
          "height": 52
        },
        "outputId": "7c9cfa1f-a59e-4392-9aae-d88810c3deb2"
      },
      "source": [
        "contas"
      ],
      "execution_count": 69,
      "outputs": [
        {
          "output_type": "execute_result",
          "data": {
            "text/plain": [
              "(<__main__.ContaCorrente at 0x7f19a602bbe0>,\n",
              " <__main__.ContaCorrente at 0x7f19a602b908>)"
            ]
          },
          "metadata": {
            "tags": []
          },
          "execution_count": 69
        }
      ]
    },
    {
      "cell_type": "code",
      "metadata": {
        "id": "HoGL0IkGq99V",
        "colab_type": "code",
        "colab": {
          "base_uri": "https://localhost:8080/",
          "height": 52
        },
        "outputId": "41d268d2-0cb2-4987-c91a-20bc5237492a"
      },
      "source": [
        "for conta in contas:\n",
        "  print(conta)"
      ],
      "execution_count": 70,
      "outputs": [
        {
          "output_type": "stream",
          "text": [
            "[>>Codigo 1232139 Saldo 10000<<]\n",
            "[>>Codigo 15 Saldo 500<<]\n"
          ],
          "name": "stdout"
        }
      ]
    },
    {
      "cell_type": "code",
      "metadata": {
        "id": "I4xtxduDrFNv",
        "colab_type": "code",
        "colab": {
          "base_uri": "https://localhost:8080/",
          "height": 167
        },
        "outputId": "87e979c0-bdbf-4b69-a0a6-3fa988bdd78e"
      },
      "source": [
        "contas.append(45435543)"
      ],
      "execution_count": 71,
      "outputs": [
        {
          "output_type": "error",
          "ename": "AttributeError",
          "evalue": "ignored",
          "traceback": [
            "\u001b[0;31m---------------------------------------------------------------------------\u001b[0m",
            "\u001b[0;31mAttributeError\u001b[0m                            Traceback (most recent call last)",
            "\u001b[0;32m<ipython-input-71-1abfbaf3f0d5>\u001b[0m in \u001b[0;36m<module>\u001b[0;34m()\u001b[0m\n\u001b[0;32m----> 1\u001b[0;31m \u001b[0mcontas\u001b[0m\u001b[0;34m.\u001b[0m\u001b[0mappend\u001b[0m\u001b[0;34m(\u001b[0m\u001b[0;36m45435543\u001b[0m\u001b[0;34m)\u001b[0m\u001b[0;34m\u001b[0m\u001b[0;34m\u001b[0m\u001b[0m\n\u001b[0m",
            "\u001b[0;31mAttributeError\u001b[0m: 'tuple' object has no attribute 'append'"
          ]
        }
      ]
    },
    {
      "cell_type": "code",
      "metadata": {
        "id": "tosYA8vprIHB",
        "colab_type": "code",
        "colab": {}
      },
      "source": [
        "contas[0].deposita(400)"
      ],
      "execution_count": 72,
      "outputs": []
    },
    {
      "cell_type": "code",
      "metadata": {
        "id": "DRvbu3jsrTL5",
        "colab_type": "code",
        "colab": {
          "base_uri": "https://localhost:8080/",
          "height": 52
        },
        "outputId": "ba7b4704-8f6d-4999-aec8-9a61a81e06bf"
      },
      "source": [
        "for conta in contas:\n",
        "  print(conta)"
      ],
      "execution_count": 73,
      "outputs": [
        {
          "output_type": "stream",
          "text": [
            "[>>Codigo 1232139 Saldo 10400<<]\n",
            "[>>Codigo 15 Saldo 500<<]\n"
          ],
          "name": "stdout"
        }
      ]
    },
    {
      "cell_type": "markdown",
      "metadata": {
        "id": "pTnx7Tqosvh5",
        "colab_type": "text"
      },
      "source": [
        "# Herança e polimorfismo"
      ]
    },
    {
      "cell_type": "code",
      "metadata": {
        "id": "tvroX_YDriS5",
        "colab_type": "code",
        "colab": {}
      },
      "source": [
        "class Conta:\n",
        "  def __init__(self, codigo):\n",
        "    self._codigo = codigo\n",
        "    self._saldo = 0\n",
        "\n",
        "  def deposita(self, valor):\n",
        "    self._saldo += valor\n",
        "\n",
        "  def __str__(self):\n",
        "    return \"[>>Codigo {} Saldo {}<<]\".format(self._codigo, self._saldo)\n",
        "\n",
        "  @property\n",
        "  def saldo(self):\n",
        "    return self._saldo\n",
        "\n",
        "  @property\n",
        "  def codigo(self):\n",
        "    return self._codigo"
      ],
      "execution_count": 74,
      "outputs": []
    },
    {
      "cell_type": "code",
      "metadata": {
        "id": "NPItGC2Ytz1x",
        "colab_type": "code",
        "colab": {
          "base_uri": "https://localhost:8080/",
          "height": 34
        },
        "outputId": "4c626763-1582-4965-c6bd-b050f787f6c7"
      },
      "source": [
        "print(Conta(88))"
      ],
      "execution_count": 75,
      "outputs": [
        {
          "output_type": "stream",
          "text": [
            "[>>Codigo 88 Saldo 0<<]\n"
          ],
          "name": "stdout"
        }
      ]
    },
    {
      "cell_type": "code",
      "metadata": {
        "id": "lcgtWF7bt3tF",
        "colab_type": "code",
        "colab": {}
      },
      "source": [
        "class ContaCorrente(Conta):\n",
        "  def passa_o_mes(self):\n",
        "    self._saldo -= 2\n",
        "\n",
        "class ContaPoupanca(Conta):\n",
        "  def passa_o_mes(self):\n",
        "    self._saldo *= 1.01\n",
        "    self._saldo -= 3"
      ],
      "execution_count": 76,
      "outputs": []
    },
    {
      "cell_type": "code",
      "metadata": {
        "id": "0WMIV00FuQ6R",
        "colab_type": "code",
        "colab": {
          "base_uri": "https://localhost:8080/",
          "height": 34
        },
        "outputId": "58069adc-b6c6-49b6-909e-c7e2309689e9"
      },
      "source": [
        "conta16 = ContaCorrente(16)\n",
        "conta16.deposita(1000)\n",
        "conta16.passa_o_mes()\n",
        "print(conta16)"
      ],
      "execution_count": 77,
      "outputs": [
        {
          "output_type": "stream",
          "text": [
            "[>>Codigo 16 Saldo 998<<]\n"
          ],
          "name": "stdout"
        }
      ]
    },
    {
      "cell_type": "code",
      "metadata": {
        "id": "NkPxPHMlucSs",
        "colab_type": "code",
        "colab": {
          "base_uri": "https://localhost:8080/",
          "height": 34
        },
        "outputId": "bc4864d0-e81a-4180-baa3-efacb6e4899e"
      },
      "source": [
        "conta17 = ContaPoupanca(17)\n",
        "conta17.deposita(1000)\n",
        "conta17.passa_o_mes()\n",
        "print(conta17)"
      ],
      "execution_count": 78,
      "outputs": [
        {
          "output_type": "stream",
          "text": [
            "[>>Codigo 17 Saldo 1007.0<<]\n"
          ],
          "name": "stdout"
        }
      ]
    },
    {
      "cell_type": "code",
      "metadata": {
        "id": "IUUmCe3xuqQw",
        "colab_type": "code",
        "colab": {
          "base_uri": "https://localhost:8080/",
          "height": 52
        },
        "outputId": "5e6f59ec-07a3-465f-ed44-347967c01507"
      },
      "source": [
        "conta16 = ContaCorrente(16)\n",
        "conta16.deposita(1000)\n",
        "conta17 = ContaPoupanca(17)\n",
        "conta17.deposita(1000)\n",
        "contas = [conta16, conta17]\n",
        "\n",
        "for conta in contas:\n",
        "  conta.passa_o_mes() # duck typing\n",
        "  print(conta)"
      ],
      "execution_count": 79,
      "outputs": [
        {
          "output_type": "stream",
          "text": [
            "[>>Codigo 16 Saldo 998<<]\n",
            "[>>Codigo 17 Saldo 1007.0<<]\n"
          ],
          "name": "stdout"
        }
      ]
    },
    {
      "cell_type": "code",
      "metadata": {
        "id": "n_6doLu_vTLC",
        "colab_type": "code",
        "colab": {}
      },
      "source": [
        ""
      ],
      "execution_count": null,
      "outputs": []
    }
  ]
}